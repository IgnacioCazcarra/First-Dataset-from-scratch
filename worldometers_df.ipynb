{
 "cells": [
  {
   "cell_type": "code",
   "execution_count": 175,
   "metadata": {},
   "outputs": [],
   "source": [
    "import requests\n",
    "import pandas as pd\n",
    "import numpy as np\n",
    "import matplotlib.pyplot as plt\n",
    "\n",
    "web = requests.get('https://www.worldometers.info/coronavirus/')\n",
    "covid_df = pd.read_html(web.text)"
   ]
  },
  {
   "cell_type": "code",
   "execution_count": 176,
   "metadata": {},
   "outputs": [],
   "source": [
    "covid_df = covid_df[0]\n"
   ]
  },
  {
   "cell_type": "code",
   "execution_count": 177,
   "metadata": {
    "scrolled": true
   },
   "outputs": [
    {
     "data": {
      "text/html": [
       "<div>\n",
       "<style scoped>\n",
       "    .dataframe tbody tr th:only-of-type {\n",
       "        vertical-align: middle;\n",
       "    }\n",
       "\n",
       "    .dataframe tbody tr th {\n",
       "        vertical-align: top;\n",
       "    }\n",
       "\n",
       "    .dataframe thead th {\n",
       "        text-align: right;\n",
       "    }\n",
       "</style>\n",
       "<table border=\"1\" class=\"dataframe\">\n",
       "  <thead>\n",
       "    <tr style=\"text-align: right;\">\n",
       "      <th></th>\n",
       "      <th>Country,Other</th>\n",
       "      <th>TotalCases</th>\n",
       "      <th>TotalDeaths</th>\n",
       "      <th>TotalRecovered</th>\n",
       "      <th>ActiveCases</th>\n",
       "      <th>Serious,Critical</th>\n",
       "      <th>Tot Cases/1M pop</th>\n",
       "      <th>TotalTests</th>\n",
       "    </tr>\n",
       "  </thead>\n",
       "  <tbody>\n",
       "    <tr>\n",
       "      <th>0</th>\n",
       "      <td>World</td>\n",
       "      <td>2994958</td>\n",
       "      <td>206997.0</td>\n",
       "      <td>878923.0</td>\n",
       "      <td>1909038</td>\n",
       "      <td>57603.0</td>\n",
       "      <td>384.0</td>\n",
       "      <td>0.0</td>\n",
       "    </tr>\n",
       "    <tr>\n",
       "      <th>1</th>\n",
       "      <td>USA</td>\n",
       "      <td>987322</td>\n",
       "      <td>55415.0</td>\n",
       "      <td>118781.0</td>\n",
       "      <td>813126</td>\n",
       "      <td>15143.0</td>\n",
       "      <td>2983.0</td>\n",
       "      <td>5470555.0</td>\n",
       "    </tr>\n",
       "    <tr>\n",
       "      <th>2</th>\n",
       "      <td>Spain</td>\n",
       "      <td>226629</td>\n",
       "      <td>23190.0</td>\n",
       "      <td>117727.0</td>\n",
       "      <td>85712</td>\n",
       "      <td>7764.0</td>\n",
       "      <td>4847.0</td>\n",
       "      <td>1199548.0</td>\n",
       "    </tr>\n",
       "    <tr>\n",
       "      <th>3</th>\n",
       "      <td>Italy</td>\n",
       "      <td>197675</td>\n",
       "      <td>26644.0</td>\n",
       "      <td>64928.0</td>\n",
       "      <td>106103</td>\n",
       "      <td>2009.0</td>\n",
       "      <td>3269.0</td>\n",
       "      <td>1757659.0</td>\n",
       "    </tr>\n",
       "    <tr>\n",
       "      <th>4</th>\n",
       "      <td>France</td>\n",
       "      <td>162100</td>\n",
       "      <td>22856.0</td>\n",
       "      <td>44903.0</td>\n",
       "      <td>94341</td>\n",
       "      <td>4682.0</td>\n",
       "      <td>2483.0</td>\n",
       "      <td>463662.0</td>\n",
       "    </tr>\n",
       "  </tbody>\n",
       "</table>\n",
       "</div>"
      ],
      "text/plain": [
       "  Country,Other  TotalCases  TotalDeaths  TotalRecovered  ActiveCases  \\\n",
       "0         World     2994958     206997.0        878923.0      1909038   \n",
       "1           USA      987322      55415.0        118781.0       813126   \n",
       "2         Spain      226629      23190.0        117727.0        85712   \n",
       "3         Italy      197675      26644.0         64928.0       106103   \n",
       "4        France      162100      22856.0         44903.0        94341   \n",
       "\n",
       "   Serious,Critical  Tot Cases/1M pop  TotalTests  \n",
       "0           57603.0             384.0         0.0  \n",
       "1           15143.0            2983.0   5470555.0  \n",
       "2            7764.0            4847.0   1199548.0  \n",
       "3            2009.0            3269.0   1757659.0  \n",
       "4            4682.0            2483.0    463662.0  "
      ]
     },
     "execution_count": 177,
     "metadata": {},
     "output_type": "execute_result"
    }
   ],
   "source": [
    "covid_df.drop(['NewCases','NewDeaths','Deaths/1M pop','Tests/ 1M pop'],axis=1, inplace=True)\n",
    "covid_df.fillna(0,inplace=True)\n",
    "covid_df.head()"
   ]
  },
  {
   "cell_type": "code",
   "execution_count": 178,
   "metadata": {},
   "outputs": [],
   "source": [
    "covid_df.drop(0,axis=0,inplace=True)\n",
    "covid_df.drop(213,axis=0,inplace=True)"
   ]
  },
  {
   "cell_type": "code",
   "execution_count": 179,
   "metadata": {},
   "outputs": [
    {
     "data": {
      "text/html": [
       "<div>\n",
       "<style scoped>\n",
       "    .dataframe tbody tr th:only-of-type {\n",
       "        vertical-align: middle;\n",
       "    }\n",
       "\n",
       "    .dataframe tbody tr th {\n",
       "        vertical-align: top;\n",
       "    }\n",
       "\n",
       "    .dataframe thead th {\n",
       "        text-align: right;\n",
       "    }\n",
       "</style>\n",
       "<table border=\"1\" class=\"dataframe\">\n",
       "  <thead>\n",
       "    <tr style=\"text-align: right;\">\n",
       "      <th></th>\n",
       "      <th>Country,Other</th>\n",
       "      <th>TotalCases</th>\n",
       "      <th>TotalDeaths</th>\n",
       "      <th>TotalRecovered</th>\n",
       "      <th>ActiveCases</th>\n",
       "      <th>Serious,Critical</th>\n",
       "      <th>Tot Cases/1M pop</th>\n",
       "      <th>TotalTests</th>\n",
       "    </tr>\n",
       "  </thead>\n",
       "  <tbody>\n",
       "    <tr>\n",
       "      <th>208</th>\n",
       "      <td>Sao Tome and Principe</td>\n",
       "      <td>4</td>\n",
       "      <td>0.0</td>\n",
       "      <td>0.0</td>\n",
       "      <td>4</td>\n",
       "      <td>0.0</td>\n",
       "      <td>18.00</td>\n",
       "      <td>19.0</td>\n",
       "    </tr>\n",
       "    <tr>\n",
       "      <th>209</th>\n",
       "      <td>Anguilla</td>\n",
       "      <td>3</td>\n",
       "      <td>0.0</td>\n",
       "      <td>1.0</td>\n",
       "      <td>2</td>\n",
       "      <td>0.0</td>\n",
       "      <td>200.00</td>\n",
       "      <td>0.0</td>\n",
       "    </tr>\n",
       "    <tr>\n",
       "      <th>210</th>\n",
       "      <td>Saint Pierre Miquelon</td>\n",
       "      <td>1</td>\n",
       "      <td>0.0</td>\n",
       "      <td>0.0</td>\n",
       "      <td>1</td>\n",
       "      <td>0.0</td>\n",
       "      <td>173.00</td>\n",
       "      <td>0.0</td>\n",
       "    </tr>\n",
       "    <tr>\n",
       "      <th>211</th>\n",
       "      <td>Yemen</td>\n",
       "      <td>1</td>\n",
       "      <td>0.0</td>\n",
       "      <td>1.0</td>\n",
       "      <td>0</td>\n",
       "      <td>0.0</td>\n",
       "      <td>0.03</td>\n",
       "      <td>120.0</td>\n",
       "    </tr>\n",
       "    <tr>\n",
       "      <th>212</th>\n",
       "      <td>China</td>\n",
       "      <td>82830</td>\n",
       "      <td>4633.0</td>\n",
       "      <td>77474.0</td>\n",
       "      <td>723</td>\n",
       "      <td>52.0</td>\n",
       "      <td>58.00</td>\n",
       "      <td>0.0</td>\n",
       "    </tr>\n",
       "  </tbody>\n",
       "</table>\n",
       "</div>"
      ],
      "text/plain": [
       "             Country,Other  TotalCases  TotalDeaths  TotalRecovered  \\\n",
       "208  Sao Tome and Principe           4          0.0             0.0   \n",
       "209               Anguilla           3          0.0             1.0   \n",
       "210  Saint Pierre Miquelon           1          0.0             0.0   \n",
       "211                  Yemen           1          0.0             1.0   \n",
       "212                  China       82830       4633.0         77474.0   \n",
       "\n",
       "     ActiveCases  Serious,Critical  Tot Cases/1M pop  TotalTests  \n",
       "208            4               0.0             18.00        19.0  \n",
       "209            2               0.0            200.00         0.0  \n",
       "210            1               0.0            173.00         0.0  \n",
       "211            0               0.0              0.03       120.0  \n",
       "212          723              52.0             58.00         0.0  "
      ]
     },
     "execution_count": 179,
     "metadata": {},
     "output_type": "execute_result"
    }
   ],
   "source": [
    "covid_df.tail()"
   ]
  },
  {
   "cell_type": "code",
   "execution_count": 180,
   "metadata": {},
   "outputs": [
    {
     "data": {
      "text/html": [
       "<div>\n",
       "<style scoped>\n",
       "    .dataframe tbody tr th:only-of-type {\n",
       "        vertical-align: middle;\n",
       "    }\n",
       "\n",
       "    .dataframe tbody tr th {\n",
       "        vertical-align: top;\n",
       "    }\n",
       "\n",
       "    .dataframe thead th {\n",
       "        text-align: right;\n",
       "    }\n",
       "</style>\n",
       "<table border=\"1\" class=\"dataframe\">\n",
       "  <thead>\n",
       "    <tr style=\"text-align: right;\">\n",
       "      <th></th>\n",
       "      <th>Countries</th>\n",
       "      <th>TotalCases</th>\n",
       "      <th>TotalDeaths</th>\n",
       "      <th>TotalRecovered</th>\n",
       "      <th>ActiveCases</th>\n",
       "      <th>CriticalCases</th>\n",
       "      <th>Tot Cases/1M pop</th>\n",
       "      <th>TotalTests</th>\n",
       "    </tr>\n",
       "  </thead>\n",
       "  <tbody>\n",
       "    <tr>\n",
       "      <th>1</th>\n",
       "      <td>USA</td>\n",
       "      <td>987322</td>\n",
       "      <td>55415.0</td>\n",
       "      <td>118781.0</td>\n",
       "      <td>813126</td>\n",
       "      <td>15143.0</td>\n",
       "      <td>2983.0</td>\n",
       "      <td>5470555.0</td>\n",
       "    </tr>\n",
       "    <tr>\n",
       "      <th>2</th>\n",
       "      <td>Spain</td>\n",
       "      <td>226629</td>\n",
       "      <td>23190.0</td>\n",
       "      <td>117727.0</td>\n",
       "      <td>85712</td>\n",
       "      <td>7764.0</td>\n",
       "      <td>4847.0</td>\n",
       "      <td>1199548.0</td>\n",
       "    </tr>\n",
       "    <tr>\n",
       "      <th>3</th>\n",
       "      <td>Italy</td>\n",
       "      <td>197675</td>\n",
       "      <td>26644.0</td>\n",
       "      <td>64928.0</td>\n",
       "      <td>106103</td>\n",
       "      <td>2009.0</td>\n",
       "      <td>3269.0</td>\n",
       "      <td>1757659.0</td>\n",
       "    </tr>\n",
       "    <tr>\n",
       "      <th>4</th>\n",
       "      <td>France</td>\n",
       "      <td>162100</td>\n",
       "      <td>22856.0</td>\n",
       "      <td>44903.0</td>\n",
       "      <td>94341</td>\n",
       "      <td>4682.0</td>\n",
       "      <td>2483.0</td>\n",
       "      <td>463662.0</td>\n",
       "    </tr>\n",
       "    <tr>\n",
       "      <th>5</th>\n",
       "      <td>Germany</td>\n",
       "      <td>157770</td>\n",
       "      <td>5976.0</td>\n",
       "      <td>112000.0</td>\n",
       "      <td>39794</td>\n",
       "      <td>2570.0</td>\n",
       "      <td>1883.0</td>\n",
       "      <td>2072669.0</td>\n",
       "    </tr>\n",
       "  </tbody>\n",
       "</table>\n",
       "</div>"
      ],
      "text/plain": [
       "  Countries  TotalCases  TotalDeaths  TotalRecovered  ActiveCases  \\\n",
       "1       USA      987322      55415.0        118781.0       813126   \n",
       "2     Spain      226629      23190.0        117727.0        85712   \n",
       "3     Italy      197675      26644.0         64928.0       106103   \n",
       "4    France      162100      22856.0         44903.0        94341   \n",
       "5   Germany      157770       5976.0        112000.0        39794   \n",
       "\n",
       "   CriticalCases  Tot Cases/1M pop  TotalTests  \n",
       "1        15143.0            2983.0   5470555.0  \n",
       "2         7764.0            4847.0   1199548.0  \n",
       "3         2009.0            3269.0   1757659.0  \n",
       "4         4682.0            2483.0    463662.0  \n",
       "5         2570.0            1883.0   2072669.0  "
      ]
     },
     "execution_count": 180,
     "metadata": {},
     "output_type": "execute_result"
    }
   ],
   "source": [
    "covid_df.rename(columns = {'Country,Other' : 'Countries'}, inplace=True)\n",
    "covid_df.rename(columns = {'Serious,Critical' : 'CriticalCases'}, inplace=True)\n",
    "\n",
    "covid_df.head()"
   ]
  },
  {
   "cell_type": "code",
   "execution_count": 181,
   "metadata": {
    "scrolled": true
   },
   "outputs": [],
   "source": [
    "deathmean = covid_df['TotalDeaths'].mean()\n",
    "\n",
    "indexNames = covid_df[ covid_df['TotalDeaths'] <= deathmean ].index\n",
    "covid_df.drop(indexNames,inplace=True)\n"
   ]
  },
  {
   "cell_type": "code",
   "execution_count": 182,
   "metadata": {},
   "outputs": [],
   "source": [
    "y_pos = np.arange(len(covid_df))\n",
    "y_pos\n",
    "performance = covid_df['TotalDeaths']\n",
    "postal_code = ['US','ES','IT','FR','DE','UK','TR','IR','BR','CA','BE','NL','CH','NB','SE','MX','CN']\n",
    "covid_df['PostalCodes'] = postal_code\n",
    "covid_df.reset_index(inplace=True)\n"
   ]
  },
  {
   "cell_type": "code",
   "execution_count": 183,
   "metadata": {},
   "outputs": [
    {
     "data": {
      "image/png": "[encoded data removed]",
      "text/plain": [
       "<Figure size 432x288 with 1 Axes>"
      ]
     },
     "metadata": {
      "needs_background": "light"
     },
     "output_type": "display_data"
    }
   ],
   "source": [
    "plt.bar(y_pos,performance)\n",
    "plt.xticks(y_pos,covid_df['PostalCodes'])\n",
    "plt.title('Total deaths graph bar')\n",
    "plt.xlabel(\"Countries\")\n",
    "plt.ylabel(\"Deaths\")\n",
    "plt.show()"
   ]
  },
  {
   "cell_type": "code",
   "execution_count": null,
   "metadata": {},
   "outputs": [],
   "source": []
  },
  {
   "cell_type": "code",
   "execution_count": null,
   "metadata": {},
   "outputs": [],
   "source": []
  },
  {
   "cell_type": "code",
   "execution_count": null,
   "metadata": {},
   "outputs": [],
   "source": []
  },
  {
   "cell_type": "code",
   "execution_count": null,
   "metadata": {},
   "outputs": [],
   "source": []
  },
  {
   "cell_type": "code",
   "execution_count": null,
   "metadata": {},
   "outputs": [],
   "source": []
  },
  {
   "cell_type": "code",
   "execution_count": null,
   "metadata": {},
   "outputs": [],
   "source": []
  }
 ],
 "metadata": {
  "kernelspec": {
   "display_name": "Python 3",
   "language": "python",
   "name": "python3"
  },
  "language_info": {
   "codemirror_mode": {
    "name": "ipython",
    "version": 3
   },
   "file_extension": ".py",
   "mimetype": "text/x-python",
   "name": "python",
   "nbconvert_exporter": "python",
   "pygments_lexer": "ipython3",
   "version": "3.7.7"
  }
 },
 "nbformat": 4,
 "nbformat_minor": 4
}
